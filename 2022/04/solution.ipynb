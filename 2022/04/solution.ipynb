{
 "cells": [
  {
   "cell_type": "code",
   "execution_count": 22,
   "id": "05ecdea0",
   "metadata": {},
   "outputs": [],
   "source": [
    "def parse_line(string):\n",
    "    e1, e2 = string.split(',')\n",
    "    return [int(x) for x in e1.split('-')], [int(x) for x in e2.split('-')]\n",
    "    \n",
    "\n",
    "def read(filename):\n",
    "    data = []\n",
    "    with open(filename) as fstream:\n",
    "        line = fstream.readline()\n",
    "        while line:\n",
    "            data.append(parse_line(line.strip()))\n",
    "            line = fstream.readline()\n",
    "    return data"
   ]
  },
  {
   "cell_type": "code",
   "execution_count": 32,
   "id": "230db105",
   "metadata": {},
   "outputs": [
    {
     "name": "stdout",
     "output_type": "stream",
     "text": [
      "475\n"
     ]
    }
   ],
   "source": [
    "# part 1: full overlap\n",
    "\n",
    "data = read('input.txt')\n",
    "\n",
    "n = 0\n",
    "\n",
    "for e1, e2 in data:\n",
    "    if e2[0] >= e1[0] and e2[1] <= e1[1]:\n",
    "        n += 1\n",
    "    elif e1[0] >= e2[0] and e1[1] <= e2[1]:\n",
    "        n += 1\n",
    "\n",
    "print(n)"
   ]
  },
  {
   "cell_type": "code",
   "execution_count": 37,
   "id": "008c1d78",
   "metadata": {},
   "outputs": [
    {
     "name": "stdout",
     "output_type": "stream",
     "text": [
      "825\n"
     ]
    }
   ],
   "source": [
    "# part 2: any overlap\n",
    "\n",
    "data = read('input.txt')\n",
    "\n",
    "n = 0\n",
    "\n",
    "for e1, e2 in data:\n",
    "    if e2[1] < e1[0]:\n",
    "        continue\n",
    "    elif e2[0] > e1[1]:\n",
    "        continue\n",
    "    else:  # if both these cases are false there must be some overlap\n",
    "        n += 1\n",
    "\n",
    "print(n)"
   ]
  }
 ],
 "metadata": {
  "kernelspec": {
   "display_name": "Python 3 (ipykernel)",
   "language": "python",
   "name": "python3"
  },
  "language_info": {
   "codemirror_mode": {
    "name": "ipython",
    "version": 3
   },
   "file_extension": ".py",
   "mimetype": "text/x-python",
   "name": "python",
   "nbconvert_exporter": "python",
   "pygments_lexer": "ipython3",
   "version": "3.8.12"
  }
 },
 "nbformat": 4,
 "nbformat_minor": 5
}
