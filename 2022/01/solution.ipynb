{
 "cells": [
  {
   "cell_type": "code",
   "execution_count": 1,
   "id": "ef0bd2e6",
   "metadata": {},
   "outputs": [
    {
     "name": "stdout",
     "output_type": "stream",
     "text": [
      "72718\n",
      "72718\n",
      "213089\n"
     ]
    }
   ],
   "source": [
    "calories = []\n",
    "\n",
    "with open('input.txt') as file:\n",
    "    line = file.readline()\n",
    "    elf = 0\n",
    "    while line:\n",
    "        if line.isspace():\n",
    "            calories.append(elf)\n",
    "            elf = 0\n",
    "        else:\n",
    "            elf += int(line)\n",
    "        line = file.readline()\n",
    "\n",
    "def sum_n_largest(data, n=1):\n",
    "    if n <= 0:\n",
    "        return 0\n",
    "    else:\n",
    "        largest = max(data)\n",
    "        index = data.index(largest)\n",
    "        return largest + sum_n_largest(data[0:index] + data[index+1:], n-1)\n",
    "\n",
    "print(max(calories))\n",
    "print(sum_n_largest(calories, n=1))\n",
    "print(sum_n_largest(calories, n=3))\n",
    "    "
   ]
  }
 ],
 "metadata": {
  "kernelspec": {
   "display_name": "sklearn_env",
   "language": "python",
   "name": "sklearn_env"
  },
  "language_info": {
   "codemirror_mode": {
    "name": "ipython",
    "version": 3
   },
   "file_extension": ".py",
   "mimetype": "text/x-python",
   "name": "python",
   "nbconvert_exporter": "python",
   "pygments_lexer": "ipython3",
   "version": "3.8.13"
  }
 },
 "nbformat": 4,
 "nbformat_minor": 5
}
