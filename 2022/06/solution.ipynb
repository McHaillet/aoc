{
 "cells": [
  {
   "cell_type": "code",
   "execution_count": 47,
   "id": "e58157cf",
   "metadata": {},
   "outputs": [],
   "source": [
    "def read(filename):\n",
    "    with open(filename) as fstream:\n",
    "        data = fstream.readline().strip()\n",
    "    return data\n",
    "\n",
    "\n",
    "def subroutine_packet(signal):\n",
    "    start = 0\n",
    "    for i, c in enumerate(signal):\n",
    "        # when i larger then 2 we can start checking for the marker\n",
    "        if i > 2 and len(set(signal[i - 3: i + 1])) == 4:\n",
    "            start = i + 1\n",
    "            break\n",
    "    return start\n",
    "\n",
    "\n",
    "def subroutine_message(signal):\n",
    "    start = 0\n",
    "    for i, c in enumerate(signal):\n",
    "        # when i larger then 12 we can start checking for the marker\n",
    "        if i > 12 and len(set(signal[i - 13: i + 1])) == 14:\n",
    "            start = i + 1\n",
    "            break\n",
    "    return start"
   ]
  },
  {
   "cell_type": "code",
   "execution_count": 51,
   "id": "302c9135",
   "metadata": {},
   "outputs": [
    {
     "data": {
      "text/plain": [
       "(28, 5, 23)"
      ]
     },
     "execution_count": 51,
     "metadata": {},
     "output_type": "execute_result"
    }
   ],
   "source": [
    "example = 'bvwbjplbgvbhsrlpgdmjqwftvncz'\n",
    "len(example), subroutine_packet(example), subroutine_message(example)"
   ]
  },
  {
   "cell_type": "code",
   "execution_count": 22,
   "id": "617d9ed8",
   "metadata": {},
   "outputs": [
    {
     "data": {
      "text/plain": [
       "1987"
      ]
     },
     "execution_count": 22,
     "metadata": {},
     "output_type": "execute_result"
    }
   ],
   "source": [
    "# part 1\n",
    "subroutine_packet(read('input.txt'))"
   ]
  },
  {
   "cell_type": "code",
   "execution_count": 49,
   "id": "9dd377d7",
   "metadata": {},
   "outputs": [
    {
     "data": {
      "text/plain": [
       "3059"
      ]
     },
     "execution_count": 49,
     "metadata": {},
     "output_type": "execute_result"
    }
   ],
   "source": [
    "# part 2\n",
    "subroutine_message(read('input.txt'))"
   ]
  }
 ],
 "metadata": {
  "kernelspec": {
   "display_name": "sklearn_env",
   "language": "python",
   "name": "sklearn_env"
  },
  "language_info": {
   "codemirror_mode": {
    "name": "ipython",
    "version": 3
   },
   "file_extension": ".py",
   "mimetype": "text/x-python",
   "name": "python",
   "nbconvert_exporter": "python",
   "pygments_lexer": "ipython3",
   "version": "3.8.13"
  }
 },
 "nbformat": 4,
 "nbformat_minor": 5
}
