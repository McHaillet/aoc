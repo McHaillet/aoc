{
 "cells": [
  {
   "cell_type": "code",
   "execution_count": 38,
   "id": "f9fa6af8",
   "metadata": {},
   "outputs": [
    {
     "name": "stdout",
     "output_type": "stream",
     "text": [
      "7831\n"
     ]
    }
   ],
   "source": [
    "# part 1\n",
    "\n",
    "priority = 0\n",
    "\n",
    "with open('input.txt') as file:\n",
    "    line = file.readline()\n",
    "    while line:\n",
    "        items = line.strip()\n",
    "        n = len(items)\n",
    "        comp1, comp2 = items[:n//2], items[n//2:]\n",
    "        item = list(set(comp1).intersection(set(comp2)))[0]\n",
    "        \n",
    "        if ord(item) - 96 > 0:  # then it is upper case\n",
    "            priority += ord(item) - 96\n",
    "        else:\n",
    "            priority += ord(item) - 96 + 31 + 27  # 'A' - 96 == -31, but A should equal 27\n",
    "        \n",
    "        line = file.readline()\n",
    "        \n",
    "print(priority)"
   ]
  },
  {
   "cell_type": "code",
   "execution_count": 40,
   "id": "1ff19244",
   "metadata": {},
   "outputs": [
    {
     "name": "stdout",
     "output_type": "stream",
     "text": [
      "2683\n"
     ]
    }
   ],
   "source": [
    "# part 2\n",
    "\n",
    "priority = 0\n",
    "\n",
    "with open('input.txt') as file:\n",
    "    line = file.readline()\n",
    "    while line:\n",
    "        l1, l2, l3 = line.strip(), file.readline().strip(), file.readline().strip()\n",
    "        item = list(set(l1).intersection(set(l2)).intersection(set(l3)))[0]\n",
    "        \n",
    "        if ord(item) - 96 > 0:  # then it is upper case\n",
    "            priority += ord(item) - 96\n",
    "        else:\n",
    "            priority += ord(item) - 96 + 31 + 27  # 'A' - 96 == -31, but A should equal 27\n",
    "        \n",
    "        line = file.readline()\n",
    "        \n",
    "print(priority)"
   ]
  }
 ],
 "metadata": {
  "kernelspec": {
   "display_name": "Python 3 (ipykernel)",
   "language": "python",
   "name": "python3"
  },
  "language_info": {
   "codemirror_mode": {
    "name": "ipython",
    "version": 3
   },
   "file_extension": ".py",
   "mimetype": "text/x-python",
   "name": "python",
   "nbconvert_exporter": "python",
   "pygments_lexer": "ipython3",
   "version": "3.8.12"
  }
 },
 "nbformat": 4,
 "nbformat_minor": 5
}
