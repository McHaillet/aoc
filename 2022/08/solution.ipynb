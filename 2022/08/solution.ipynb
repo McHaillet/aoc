{
 "cells": [
  {
   "cell_type": "code",
   "execution_count": 38,
   "id": "3d41d02a",
   "metadata": {},
   "outputs": [],
   "source": [
    "import numpy as np\n",
    "\n",
    "def read(filename):\n",
    "    rows = []\n",
    "    with open(filename) as f:\n",
    "        line = f.readline().strip()\n",
    "        while line:\n",
    "            rows.append([int(c) for c in line])\n",
    "            line = f.readline().strip()\n",
    "    return np.array(rows)\n",
    "\n",
    "\n",
    "def isvisible(tree_map, index):\n",
    "    v, i, j = tree_map[index[0], index[1]], index[0], index[1]\n",
    "    left = np.all(v > tree_map[0:i, j])\n",
    "    right = np.all(v > tree_map[i + 1:, j])\n",
    "    top = np.all(v > tree_map[i, 0:j])\n",
    "    bottom = np.all(v > tree_map[i, j+1:])\n",
    "    return left or right or top or bottom\n",
    "\n",
    "\n",
    "def find_visible_trees(tree_map):\n",
    "    count = tree_map.shape[0] * 2 + (tree_map.shape[1] - 2) * 2\n",
    "    for i in range(tree_map.shape[0] - 2):  # subtract 2 for edge\n",
    "        for j in range(tree_map.shape[1] - 2):\n",
    "            if isvisible(tree_map, (i + 1, j + 1)):  # add 1 for edge\n",
    "                count += 1\n",
    "    return count\n",
    "\n",
    "\n",
    "def calc_scenic_score(tree_map, index):\n",
    "    v, i, j = tree_map[index[0], index[1]], index[0], index[1]\n",
    "    views = [np.flip(tree_map[0:i, j]), tree_map[i + 1:, j], \n",
    "             np.flip(tree_map[i, 0:j]), tree_map[i, j+1:]]\n",
    "    score = 1\n",
    "    for view in views:\n",
    "        if len(view) == 0:\n",
    "            score *= 0\n",
    "        else:\n",
    "            cond = (v <= view)\n",
    "            if np.any(cond):\n",
    "                score *= len(view[0:np.argmax(cond) + 1])\n",
    "            else:\n",
    "                score *= len(view)\n",
    "    return score        \n",
    "    \n",
    "\n",
    "def best_scenic_score(tree_map):\n",
    "    best_score = 0\n",
    "    for i in range(tree_map.shape[0]):  # subtract 2 for edge\n",
    "        for j in range(tree_map.shape[1]):\n",
    "            score = calc_scenic_score(tree_map, (i, j))\n",
    "            if score > best_score:\n",
    "                best_score = score\n",
    "    return best_score\n",
    "            \n",
    "    "
   ]
  },
  {
   "cell_type": "code",
   "execution_count": 41,
   "id": "b43d58d3",
   "metadata": {},
   "outputs": [
    {
     "name": "stdout",
     "output_type": "stream",
     "text": [
      "21\n",
      "1789\n"
     ]
    }
   ],
   "source": [
    "# part 1\n",
    "print(find_visible_trees(read('example.txt')))\n",
    "print(find_visible_trees(read('input.txt')))"
   ]
  },
  {
   "cell_type": "code",
   "execution_count": 40,
   "id": "5a291812",
   "metadata": {},
   "outputs": [
    {
     "name": "stdout",
     "output_type": "stream",
     "text": [
      "8\n",
      "314820\n"
     ]
    }
   ],
   "source": [
    "# part 1\n",
    "print(best_scenic_score(read('example.txt')))\n",
    "print(best_scenic_score(read('input.txt')))"
   ]
  }
 ],
 "metadata": {
  "kernelspec": {
   "display_name": "Python 3 (ipykernel)",
   "language": "python",
   "name": "python3"
  },
  "language_info": {
   "codemirror_mode": {
    "name": "ipython",
    "version": 3
   },
   "file_extension": ".py",
   "mimetype": "text/x-python",
   "name": "python",
   "nbconvert_exporter": "python",
   "pygments_lexer": "ipython3",
   "version": "3.8.12"
  }
 },
 "nbformat": 4,
 "nbformat_minor": 5
}
