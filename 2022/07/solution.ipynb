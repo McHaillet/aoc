{
 "cells": [
  {
   "cell_type": "code",
   "execution_count": 72,
   "id": "c7200110",
   "metadata": {},
   "outputs": [],
   "source": [
    "\n",
    "def read(filename):\n",
    "    data = []\n",
    "    with open(filename) as f:\n",
    "        line = f.readline().strip()\n",
    "        while line:\n",
    "            data.append(line)               \n",
    "            line = f.readline().strip()\n",
    "    return data\n",
    "\n",
    "\n",
    "def find_output(lines):\n",
    "    output = []\n",
    "    for line in lines:\n",
    "        if line.startswith('$'):\n",
    "            break\n",
    "        else:\n",
    "            output.append(line)\n",
    "    return output\n",
    "\n",
    "\n",
    "def update_cwd(path, cmd):\n",
    "    _, arg = cmd.split()\n",
    "    if arg == '..':\n",
    "        path.pop()\n",
    "    else:\n",
    "        path.append(arg)\n",
    "        \n",
    "        \n",
    "def update_tree(dir_tree, path, output):\n",
    "    \n",
    "    current = dir_tree\n",
    "    for d in path:\n",
    "        if d in current.keys():\n",
    "            current = current[d]\n",
    "        else:\n",
    "            current[d] = {}\n",
    "            current = current[d]\n",
    "    \n",
    "    # add output\n",
    "    for o in output:\n",
    "        t, name = o.split()\n",
    "        if t == 'dir':\n",
    "            current[name] = {}\n",
    "        else:\n",
    "            current[name] = int(t)\n",
    "    \n",
    "\n",
    "def parse_terminal(filename):\n",
    "    \n",
    "    # read the input file\n",
    "    data = read(filename)\n",
    "    \n",
    "    # list that stores command output\n",
    "    command_output = []\n",
    "    \n",
    "    # keep track of current directory\n",
    "    cwd = []\n",
    "    \n",
    "    # store the directory tree\n",
    "    tree = {}\n",
    "    \n",
    "    for i, line in enumerate(data):\n",
    "                \n",
    "        if line.startswith('$'):\n",
    "                       \n",
    "            # search next lines for command output\n",
    "            if not data[i + 1].startswith('$'):\n",
    "                command_output = find_output(data[i + 1:])\n",
    "            else:\n",
    "                command_output = []\n",
    "                \n",
    "            # parse the command\n",
    "            command = line.strip('$').strip()\n",
    "                        \n",
    "            if command.startswith('cd'):\n",
    "                update_cwd(cwd, command)\n",
    "                \n",
    "            elif command.startswith('ls'):\n",
    "                update_tree(tree, cwd, command_output)\n",
    "            \n",
    "        else:\n",
    "            continue\n",
    "            \n",
    "    return tree\n",
    "\n",
    "\n",
    "def calculate_size(file_system):\n",
    "        \n",
    "    total = 0\n",
    "    dir_list = []\n",
    "    \n",
    "    for key, value in file_system.items():\n",
    "        \n",
    "        if type(value) == dict:\n",
    "            \n",
    "            dl, size = calculate_size(value)\n",
    "            \n",
    "            dir_list += dl  # append dir list of directories down the tree\n",
    "            dir_list.append((key, size))  # append size of this key\n",
    "            \n",
    "            total += size  # count total\n",
    "        \n",
    "        else:\n",
    "            \n",
    "            total += value\n",
    "        \n",
    "    return dir_list, total"
   ]
  },
  {
   "cell_type": "code",
   "execution_count": 80,
   "id": "e4875fe0",
   "metadata": {},
   "outputs": [
    {
     "data": {
      "text/plain": [
       "95437"
      ]
     },
     "execution_count": 80,
     "metadata": {},
     "output_type": "execute_result"
    }
   ],
   "source": [
    "# part 1 example\n",
    "tree = parse_terminal('example.txt')\n",
    "dlist, total = calculate_size(tree)\n",
    "sum([d[1] for d in dlist if d[1] < 100000])"
   ]
  },
  {
   "cell_type": "code",
   "execution_count": 79,
   "id": "6f79e844",
   "metadata": {},
   "outputs": [
    {
     "data": {
      "text/plain": [
       "1908462"
      ]
     },
     "execution_count": 79,
     "metadata": {},
     "output_type": "execute_result"
    }
   ],
   "source": [
    "# part 1\n",
    "tree = parse_terminal('input.txt')\n",
    "dlist, total = calculate_size(tree)\n",
    "sum([d[1] for d in dlist if d[1] < 100000])"
   ]
  },
  {
   "cell_type": "code",
   "execution_count": 98,
   "id": "16c3d88b",
   "metadata": {},
   "outputs": [
    {
     "data": {
      "text/plain": [
       "('d', 24933642)"
      ]
     },
     "execution_count": 98,
     "metadata": {},
     "output_type": "execute_result"
    }
   ],
   "source": [
    "# part 2 example\n",
    "tree = parse_terminal('example.txt')\n",
    "dlist, total = calculate_size(tree)\n",
    "\n",
    "space_needed = 3*1e7 - (7*1e7 - total)\n",
    "options = [d for d in dlist if d[1] > space_needed]\n",
    "\n",
    "min(options, key=lambda x: x[1])"
   ]
  },
  {
   "cell_type": "code",
   "execution_count": 104,
   "id": "2263700b",
   "metadata": {},
   "outputs": [
    {
     "data": {
      "text/plain": [
       "('zmljzwt', 3979145)"
      ]
     },
     "execution_count": 104,
     "metadata": {},
     "output_type": "execute_result"
    }
   ],
   "source": [
    "# part 2 input\n",
    "tree = parse_terminal('input.txt')\n",
    "dlist, total = calculate_size(tree)\n",
    "\n",
    "space_needed = 3*1e7 - (7*1e7 - total)\n",
    "min([d for d in dlist if d[1] > space_needed], key=lambda x: x[1])"
   ]
  }
 ],
 "metadata": {
  "kernelspec": {
   "display_name": "sklearn_env",
   "language": "python",
   "name": "sklearn_env"
  },
  "language_info": {
   "codemirror_mode": {
    "name": "ipython",
    "version": 3
   },
   "file_extension": ".py",
   "mimetype": "text/x-python",
   "name": "python",
   "nbconvert_exporter": "python",
   "pygments_lexer": "ipython3",
   "version": "3.8.13"
  }
 },
 "nbformat": 4,
 "nbformat_minor": 5
}
