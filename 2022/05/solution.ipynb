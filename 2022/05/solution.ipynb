{
 "cells": [
  {
   "cell_type": "code",
   "execution_count": 67,
   "id": "9d9c53d1",
   "metadata": {},
   "outputs": [],
   "source": [
    "import re"
   ]
  },
  {
   "cell_type": "code",
   "execution_count": 83,
   "id": "b932eac9",
   "metadata": {},
   "outputs": [],
   "source": [
    "def parse_boxes(lines):\n",
    "    cols = [int(x) for x in lines[-1].strip().split()]  # last line contains cols\n",
    "    stacks = [[] for i in range(len(cols))]\n",
    "    for line in lines[:-1]:\n",
    "        for c in cols:\n",
    "            box = line[(4 * (c - 1)): (4 * c)]\n",
    "            content = box.strip().strip('[').strip(']')\n",
    "            if content:\n",
    "                stacks[c - 1].append(content)\n",
    "    return [list(reversed(s)) for s in stacks]\n",
    "            \n",
    "    \n",
    "    \n",
    "def parse_moves(lines):\n",
    "    moves = []\n",
    "    for line in lines:\n",
    "        match = re.match(r'move (\\d+) from (\\d+) to (\\d+)', line.strip())\n",
    "        move, col1, col2 = match.group(1), match.group(2), match.group(3)\n",
    "        moves.append((int(move), int(col1), int(col2)))\n",
    "    return moves\n",
    "\n",
    "\n",
    "\n",
    "def read(filename):\n",
    "    boxes = []\n",
    "    moves = []\n",
    "    \n",
    "    with open(filename) as fstream:\n",
    "        line = fstream.readline()\n",
    "        while line:\n",
    "            if line == '\\n':\n",
    "                break\n",
    "            boxes.append(line)\n",
    "            line = fstream.readline()\n",
    "            \n",
    "        line = fstream.readline()\n",
    "        while line:\n",
    "            moves.append(line)\n",
    "            line = fstream.readline()\n",
    "            \n",
    "    # parse boxes\n",
    "    boxes = parse_boxes(boxes)\n",
    "    \n",
    "    # parse moves\n",
    "    moves = parse_moves(moves)    \n",
    "    \n",
    "    return boxes, moves"
   ]
  },
  {
   "cell_type": "code",
   "execution_count": 90,
   "id": "b07ddbdc",
   "metadata": {},
   "outputs": [
    {
     "name": "stdout",
     "output_type": "stream",
     "text": [
      "CMZ\n"
     ]
    }
   ],
   "source": [
    "# part 1\n",
    "\n",
    "boxes, moves = read('example.txt')\n",
    "\n",
    "for move in moves:\n",
    "    for i in range(move[0]):  # move one by one\n",
    "        boxes[move[2] - 1].append(boxes[move[1] - 1][-1])\n",
    "        boxes[move[1] - 1].pop(-1)\n",
    "        \n",
    "result = ''.join([b[-1] for b in boxes])\n",
    "print(result)"
   ]
  },
  {
   "cell_type": "code",
   "execution_count": 91,
   "id": "d995f48c",
   "metadata": {},
   "outputs": [
    {
     "name": "stdout",
     "output_type": "stream",
     "text": [
      "PTWLTDSJV\n"
     ]
    }
   ],
   "source": [
    "# part 1\n",
    "\n",
    "boxes, moves = read('input.txt')\n",
    "\n",
    "for move in moves:\n",
    "    for i in range(move[0]):  # move one by one\n",
    "        boxes[move[2] - 1].append(boxes[move[1] - 1][-1])\n",
    "        boxes[move[1] - 1].pop(-1)\n",
    "        \n",
    "result = ''.join([b[-1] for b in boxes])\n",
    "print(result)"
   ]
  },
  {
   "cell_type": "code",
   "execution_count": 97,
   "id": "ac116ef2",
   "metadata": {},
   "outputs": [
    {
     "name": "stdout",
     "output_type": "stream",
     "text": [
      "MCD\n"
     ]
    }
   ],
   "source": [
    "# part 2\n",
    "\n",
    "boxes, moves = read('example.txt')\n",
    "\n",
    "for move in moves:\n",
    "    boxes[move[2] - 1] += boxes[move[1] - 1][- move[0]:]\n",
    "    boxes[move[1] - 1] = boxes[move[1] - 1][0: - move[0]]\n",
    "        \n",
    "result = ''.join([b[-1] for b in boxes])\n",
    "print(result)"
   ]
  },
  {
   "cell_type": "code",
   "execution_count": 98,
   "id": "845ecd2c",
   "metadata": {},
   "outputs": [
    {
     "name": "stdout",
     "output_type": "stream",
     "text": [
      "WZMFVGGZP\n"
     ]
    }
   ],
   "source": [
    "# part 2\n",
    "\n",
    "boxes, moves = read('input.txt')\n",
    "\n",
    "for move in moves:\n",
    "    boxes[move[2] - 1] += boxes[move[1] - 1][- move[0]:]\n",
    "    boxes[move[1] - 1] = boxes[move[1] - 1][0: - move[0]]\n",
    "        \n",
    "result = ''.join([b[-1] for b in boxes])\n",
    "print(result)"
   ]
  },
  {
   "cell_type": "code",
   "execution_count": null,
   "id": "e4fc6490",
   "metadata": {},
   "outputs": [],
   "source": []
  }
 ],
 "metadata": {
  "kernelspec": {
   "display_name": "Python 3 (ipykernel)",
   "language": "python",
   "name": "python3"
  },
  "language_info": {
   "codemirror_mode": {
    "name": "ipython",
    "version": 3
   },
   "file_extension": ".py",
   "mimetype": "text/x-python",
   "name": "python",
   "nbconvert_exporter": "python",
   "pygments_lexer": "ipython3",
   "version": "3.8.12"
  }
 },
 "nbformat": 4,
 "nbformat_minor": 5
}
