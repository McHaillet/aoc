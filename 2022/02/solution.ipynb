{
 "cells": [
  {
   "cell_type": "code",
   "execution_count": 8,
   "id": "31c9128f",
   "metadata": {},
   "outputs": [
    {
     "name": "stdout",
     "output_type": "stream",
     "text": [
      "10835\n"
     ]
    }
   ],
   "source": [
    "elf_dict = {'A': 'rock', 'B': 'paper', 'C': 'scissors'}\n",
    "answer_dict = {'X': 'rock', 'Y': 'paper', 'Z': 'scissors'}\n",
    "score_dict = {'rock': {'rock': [1, 3],\n",
    "                  'paper': [2, 6],\n",
    "                  'scissors': [3, 0]},\n",
    "         'paper': {'rock': [1, 0],\n",
    "                  'paper': [2, 3],\n",
    "                  'scissors': [3, 6]},\n",
    "         'scissors': {'rock': [1, 6],\n",
    "                  'paper': [2, 0],\n",
    "                  'scissors': [3, 3]}}\n",
    "result_dict = {'X': 'lose', 'Y': 'draw', 'Z': 'win'}\n",
    "\n",
    "with open('input.txt') as file:\n",
    "    line = file.readline()\n",
    "    score = 0\n",
    "    while line:\n",
    "        elf, answer = line.split()\n",
    "        result = result_dict[answer]\n",
    "        for key, value in score_dict[elf_dict[elf]].items():\n",
    "            if result == 'lose' and value[1] == 0:\n",
    "                score += value[0] + value[1]\n",
    "            elif result == 'draw' and value[1] == 3:\n",
    "                score += value[0] + value[1]\n",
    "            elif result == 'win' and value[1] == 6:\n",
    "                score += value[0] + value[1]\n",
    "        line = file.readline()\n",
    "        \n",
    "print(score)"
   ]
  }
 ],
 "metadata": {
  "kernelspec": {
   "display_name": "sklearn_env",
   "language": "python",
   "name": "sklearn_env"
  },
  "language_info": {
   "codemirror_mode": {
    "name": "ipython",
    "version": 3
   },
   "file_extension": ".py",
   "mimetype": "text/x-python",
   "name": "python",
   "nbconvert_exporter": "python",
   "pygments_lexer": "ipython3",
   "version": "3.8.13"
  }
 },
 "nbformat": 4,
 "nbformat_minor": 5
}
